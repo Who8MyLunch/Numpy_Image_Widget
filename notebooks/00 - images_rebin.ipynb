{
 "cells": [
  {
   "cell_type": "code",
   "execution_count": 7,
   "metadata": {},
   "outputs": [],
   "source": [
    "import pathlib\n",
    "\n",
    "import numpy as np\n",
    "import image_attendant as ia\n",
    "import numpy_image_widget as niw"
   ]
  },
  {
   "cell_type": "code",
   "execution_count": 8,
   "metadata": {},
   "outputs": [],
   "source": [
    "folder = pathlib.Path('./images/').resolve()"
   ]
  },
  {
   "cell_type": "code",
   "execution_count": 15,
   "metadata": {},
   "outputs": [
    {
     "name": "stdout",
     "output_type": "stream",
     "text": [
      "(378, 378, 3)\n",
      "(352, 352, 3)\n",
      "(365, 365, 3)\n",
      "(378, 378, 3)\n",
      "(378, 377, 3)\n",
      "(378, 377, 3)\n",
      "(347, 347, 3)\n",
      "(359, 359, 3)\n",
      "(378, 377, 3)\n",
      "(378, 378, 3)\n",
      "(378, 378, 3)\n",
      "(350, 350, 3)\n",
      "(378, 378, 3)\n",
      "(335, 335, 3)\n"
     ]
    }
   ],
   "source": [
    "scale = 1/8\n",
    "for f in folder.glob('*.jpg'):\n",
    "    if not 'small' in f.name:\n",
    "\n",
    "        img = ia.read(f)\n",
    "\n",
    "        img = ia.rebin(img, scale)\n",
    "        print(img.shape)\n",
    "\n",
    "        g = f.parent / (f.stem + '_small.jpg')\n",
    "        ia.write(g, img, quality=50)"
   ]
  },
  {
   "cell_type": "code",
   "execution_count": 5,
   "metadata": {},
   "outputs": [
    {
     "name": "stdout",
     "output_type": "stream",
     "text": [
      "total 23320\n",
      "-rw-r----- 1 pierre pierre 2856420 Nov 11 10:02 IMG_20181111_100248.jpg\n",
      "-rw-r--r-- 1 pierre pierre   50569 Nov 11 12:22 IMG_20181111_100248_small.jpg\n",
      "-rw-r--r-- 1 pierre pierre    2364 Nov 11 12:22 IMG_20181111_100248_small_small.jpg\n",
      "-rw-r----- 1 pierre pierre 2846711 Nov 11 10:02 IMG_20181111_100251.jpg\n",
      "-rw-r--r-- 1 pierre pierre   53345 Nov 11 12:22 IMG_20181111_100251_small.jpg\n",
      "-rw-r--r-- 1 pierre pierre    2436 Nov 11 12:22 IMG_20181111_100251_small_small.jpg\n",
      "-rw-r----- 1 pierre pierre 2753244 Nov 11 10:02 IMG_20181111_100255.jpg\n",
      "-rw-r--r-- 1 pierre pierre   53411 Nov 11 12:22 IMG_20181111_100255_small.jpg\n",
      "-rw-r--r-- 1 pierre pierre    2454 Nov 11 12:22 IMG_20181111_100255_small_small.jpg\n",
      "-rw-r----- 1 pierre pierre 2695230 Nov 11 10:02 IMG_20181111_100258.jpg\n",
      "-rw-r--r-- 1 pierre pierre   53890 Nov 11 12:22 IMG_20181111_100258_small.jpg\n",
      "-rw-r--r-- 1 pierre pierre    2530 Nov 11 12:22 IMG_20181111_100258_small_small.jpg\n",
      "-rw-r----- 1 pierre pierre 2186598 Nov 11 10:03 IMG_20181111_100305.jpg\n",
      "-rw-r--r-- 1 pierre pierre   49773 Nov 11 12:22 IMG_20181111_100305_small.jpg\n",
      "-rw-r--r-- 1 pierre pierre    2560 Nov 11 12:22 IMG_20181111_100305_small_small.jpg\n",
      "-rw-r----- 1 pierre pierre 1685115 Nov 11 10:03 IMG_20181111_100311.jpg\n",
      "-rw-r--r-- 1 pierre pierre   42604 Nov 11 12:22 IMG_20181111_100311_small.jpg\n",
      "-rw-r--r-- 1 pierre pierre    2549 Nov 11 12:22 IMG_20181111_100311_small_small.jpg\n",
      "-rw-r----- 1 pierre pierre 1380899 Nov 11 10:03 IMG_20181111_100314.jpg\n",
      "-rw-r--r-- 1 pierre pierre   33409 Nov 11 12:22 IMG_20181111_100314_small.jpg\n",
      "-rw-r--r-- 1 pierre pierre    2517 Nov 11 12:22 IMG_20181111_100314_small_small.jpg\n",
      "-rw-r----- 1 pierre pierre 1217263 Nov 11 10:03 IMG_20181111_100318.jpg\n",
      "-rw-r--r-- 1 pierre pierre   29231 Nov 11 12:22 IMG_20181111_100318_small.jpg\n",
      "-rw-r--r-- 1 pierre pierre    2464 Nov 11 12:22 IMG_20181111_100318_small_small.jpg\n",
      "-rw-r----- 1 pierre pierre 1002267 Nov 11 10:03 IMG_20181111_100322.jpg\n",
      "-rw-r--r-- 1 pierre pierre   21488 Nov 11 12:22 IMG_20181111_100322_small.jpg\n",
      "-rw-r--r-- 1 pierre pierre    1990 Nov 11 12:23 IMG_20181111_100322_small_small.jpg\n",
      "-rw-r----- 1 pierre pierre  902430 Nov 11 10:03 IMG_20181111_100328.jpg\n",
      "-rw-r--r-- 1 pierre pierre   20711 Nov 11 12:22 IMG_20181111_100328_small.jpg\n",
      "-rw-r--r-- 1 pierre pierre    1955 Nov 11 12:22 IMG_20181111_100328_small_small.jpg\n",
      "-rw-r----- 1 pierre pierre 1045324 Nov 11 10:03 IMG_20181111_100335.jpg\n",
      "-rw-r--r-- 1 pierre pierre   21824 Nov 11 12:22 IMG_20181111_100335_small.jpg\n",
      "-rw-r--r-- 1 pierre pierre    2167 Nov 11 12:22 IMG_20181111_100335_small_small.jpg\n",
      "-rw-r----- 1 pierre pierre  915634 Nov 11 10:03 IMG_20181111_100339.jpg\n",
      "-rw-r--r-- 1 pierre pierre   19888 Nov 11 12:22 IMG_20181111_100339_small.jpg\n",
      "-rw-r--r-- 1 pierre pierre    1925 Nov 11 12:22 IMG_20181111_100339_small_small.jpg\n",
      "-rw-r----- 1 pierre pierre  835790 Nov 11 10:03 IMG_20181111_100343.jpg\n",
      "-rw-r--r-- 1 pierre pierre   18665 Nov 11 12:23 IMG_20181111_100343_small.jpg\n",
      "-rw-r--r-- 1 pierre pierre    1910 Nov 11 12:22 IMG_20181111_100343_small_small.jpg\n",
      "-rw-r----- 1 pierre pierre  930416 Nov 11 10:03 IMG_20181111_100347.jpg\n",
      "-rw-r--r-- 1 pierre pierre   21066 Nov 11 12:22 IMG_20181111_100347_small.jpg\n",
      "-rw-r--r-- 1 pierre pierre    1985 Nov 11 12:22 IMG_20181111_100347_small_small.jpg\n"
     ]
    }
   ],
   "source": [
    "ls -l images"
   ]
  },
  {
   "cell_type": "code",
   "execution_count": null,
   "metadata": {},
   "outputs": [],
   "source": []
  }
 ],
 "metadata": {
  "kernelspec": {
   "display_name": "Python 3",
   "language": "python",
   "name": "python3"
  },
  "language_info": {
   "codemirror_mode": {
    "name": "ipython",
    "version": 3
   },
   "file_extension": ".py",
   "mimetype": "text/x-python",
   "name": "python",
   "nbconvert_exporter": "python",
   "pygments_lexer": "ipython3",
   "version": "3.7.0"
  }
 },
 "nbformat": 4,
 "nbformat_minor": 2
}
