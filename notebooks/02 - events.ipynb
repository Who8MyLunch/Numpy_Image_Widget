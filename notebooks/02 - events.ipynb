{
 "cells": [
  {
   "cell_type": "markdown",
   "metadata": {},
   "source": [
    "# Mouse and Keyboard Events\n",
    "\n",
    "ipyevents documentation: https://github.com/mwcraig/ipyevents/blob/master/doc/Widget%20DOM%20Events.ipynb\n",
    "\n",
    "Event handling is not yet incorported into the image widget class.  This is a work in progress.\n"
   ]
  },
  {
   "cell_type": "code",
   "execution_count": 2,
   "metadata": {},
   "outputs": [],
   "source": [
    "import pathlib\n",
    "import time\n",
    "\n",
    "import numpy as np\n",
    "import ipywidgets\n",
    "import IPython\n",
    "import image_attendant as ia\n",
    "\n",
    "import ipyevents\n",
    "import numpy_image_widget as niw"
   ]
  },
  {
   "cell_type": "markdown",
   "metadata": {},
   "source": [
    "# Load image data"
   ]
  },
  {
   "cell_type": "code",
   "execution_count": 3,
   "metadata": {},
   "outputs": [],
   "source": [
    "folder = pathlib.Path('./images/').resolve()"
   ]
  },
  {
   "cell_type": "code",
   "execution_count": 4,
   "metadata": {},
   "outputs": [],
   "source": [
    "files = list(folder.glob('*_small.jpg'))\n",
    "files = sorted(files)\n",
    "files = files + files[::-1]\n",
    "\n",
    "images = []\n",
    "for f in files:\n",
    "\n",
    "    images.append(ia.read(f))"
   ]
  },
  {
   "cell_type": "markdown",
   "metadata": {},
   "source": [
    "# Display"
   ]
  },
  {
   "cell_type": "code",
   "execution_count": 11,
   "metadata": {},
   "outputs": [
    {
     "data": {
      "application/vnd.jupyter.widget-view+json": {
       "model_id": "803ea6b0424a4e4bbaa6b5a3710aea8a",
       "version_major": 2,
       "version_minor": 0
      },
      "text/plain": [
       "VBox(children=(NumpyImage(value=b'\\xff\\xd8\\xff\\xe0\\x00\\x10JFIF\\x00\\x01\\x01\\x00\\x00\\x01\\x00\\x01\\x00\\x00\\xff\\xdb…"
      ]
     },
     "metadata": {},
     "output_type": "display_data"
    }
   ],
   "source": [
    "wid_img = niw.NumpyImage(images[0])\n",
    "\n",
    "wid_lab = ipywidgets.Text(description='info:')\n",
    "\n",
    "wid_box = ipywidgets.VBox(children=[wid_img, wid_lab])\n",
    "\n",
    "wid_box"
   ]
  },
  {
   "cell_type": "markdown",
   "metadata": {},
   "source": [
    "# Event Handler"
   ]
  },
  {
   "cell_type": "code",
   "execution_count": 14,
   "metadata": {},
   "outputs": [],
   "source": [
    "def handle(ev):\n",
    "    xy = ev['arrayX'], ev['arrayY'], ev['type']\n",
    "    wid_lab.value = str(xy)\n",
    "    \n",
    "events = ipyevents.Event(source=wid_img, \n",
    "                         prevent_default_action=True,\n",
    "                         watched_events=['click', 'contextmenu', 'mousemove'])\n",
    "\n",
    "events.on_dom_event(handle)\n",
    "\n",
    "_no_drag = ipyevents.Event(source=wid_img, watched_events=['dragstart'], prevent_default_action=True)"
   ]
  },
  {
   "cell_type": "code",
   "execution_count": 16,
   "metadata": {},
   "outputs": [
    {
     "data": {
      "text/plain": [
       "['keydown', 'keyup']"
      ]
     },
     "execution_count": 16,
     "metadata": {},
     "output_type": "execute_result"
    }
   ],
   "source": [
    "events.supported_key_events"
   ]
  },
  {
   "cell_type": "code",
   "execution_count": 15,
   "metadata": {},
   "outputs": [
    {
     "data": {
      "text/plain": [
       "['click',\n",
       " 'auxclick',\n",
       " 'dblclick',\n",
       " 'mouseenter',\n",
       " 'mouseleave',\n",
       " 'mousedown',\n",
       " 'mouseup',\n",
       " 'mousemove',\n",
       " 'wheel',\n",
       " 'contextmenu',\n",
       " 'dragstart',\n",
       " 'drag',\n",
       " 'dragend',\n",
       " 'dragenter',\n",
       " 'dragover',\n",
       " 'dragleave',\n",
       " 'drop']"
      ]
     },
     "execution_count": 15,
     "metadata": {},
     "output_type": "execute_result"
    }
   ],
   "source": [
    "events.supported_mouse_events"
   ]
  },
  {
   "cell_type": "code",
   "execution_count": 10,
   "metadata": {},
   "outputs": [],
   "source": []
  },
  {
   "cell_type": "code",
   "execution_count": null,
   "metadata": {},
   "outputs": [],
   "source": []
  }
 ],
 "metadata": {
  "kernelspec": {
   "display_name": "Python 3",
   "language": "python",
   "name": "python3"
  },
  "language_info": {
   "codemirror_mode": {
    "name": "ipython",
    "version": 3
   },
   "file_extension": ".py",
   "mimetype": "text/x-python",
   "name": "python",
   "nbconvert_exporter": "python",
   "pygments_lexer": "ipython3",
   "version": "3.8.2"
  }
 },
 "nbformat": 4,
 "nbformat_minor": 2
}
